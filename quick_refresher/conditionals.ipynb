{
 "cells": [
  {
   "cell_type": "markdown",
   "id": "59c75aa5",
   "metadata": {},
   "source": [
    "## Conditionals"
   ]
  },
  {
   "cell_type": "code",
   "execution_count": null,
   "id": "d5bc2300",
   "metadata": {},
   "outputs": [],
   "source": [
    "a=2"
   ]
  },
  {
   "cell_type": "code",
   "execution_count": null,
   "id": "2d50a713",
   "metadata": {},
   "outputs": [
    {
     "name": "stdout",
     "output_type": "stream",
     "text": [
      "5 <= a < 10\n"
     ]
    }
   ],
   "source": [
    "## Nested if statement\n",
    "a = 5\n",
    "\n",
    "if a < 5:\n",
    "    print('a is less or equal to 5')\n",
    "else:\n",
    "    if a < 10:\n",
    "        print('5 <= a < 10')\n",
    "    else:\n",
    "        print('a >= 10')\n",
    "    "
   ]
  },
  {
   "cell_type": "code",
   "execution_count": 17,
   "id": "f8f38730",
   "metadata": {},
   "outputs": [],
   "source": [
    "a = 5"
   ]
  },
  {
   "cell_type": "code",
   "execution_count": 18,
   "id": "9abf5083",
   "metadata": {},
   "outputs": [
    {
     "name": "stdout",
     "output_type": "stream",
     "text": [
      "5 <= a < 10\n"
     ]
    }
   ],
   "source": [
    "if a < 5:\n",
    "    print('a < 5')\n",
    "elif a < 10:\n",
    "    print('5 <= a < 10')\n",
    "elif a < 15:\n",
    "    print('10 <= a < 15')\n",
    "elif a < 20:\n",
    "    print('15 <= a < 20')\n",
    "else:\n",
    "    print('20 < a')\n",
    "    "
   ]
  },
  {
   "cell_type": "code",
   "execution_count": null,
   "id": "fa622f96",
   "metadata": {},
   "outputs": [
    {
     "data": {
      "text/plain": [
       "'a>= 5'"
      ]
     },
     "execution_count": 19,
     "metadata": {},
     "output_type": "execute_result"
    }
   ],
   "source": [
    "'a < 5' if a < 5 else 'a >= 5'"
   ]
  },
  {
   "cell_type": "code",
   "execution_count": null,
   "id": "91062ec5",
   "metadata": {},
   "outputs": [],
   "source": []
  }
 ],
 "metadata": {
  "kernelspec": {
   "display_name": ".env",
   "language": "python",
   "name": "python3"
  },
  "language_info": {
   "codemirror_mode": {
    "name": "ipython",
    "version": 3
   },
   "file_extension": ".py",
   "mimetype": "text/x-python",
   "name": "python",
   "nbconvert_exporter": "python",
   "pygments_lexer": "ipython3",
   "version": "3.13.3"
  }
 },
 "nbformat": 4,
 "nbformat_minor": 5
}
